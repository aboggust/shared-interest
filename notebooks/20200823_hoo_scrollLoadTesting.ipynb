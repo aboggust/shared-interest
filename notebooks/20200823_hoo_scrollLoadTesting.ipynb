{
 "cells": [
  {
   "cell_type": "code",
   "execution_count": 1,
   "metadata": {},
   "outputs": [],
   "source": [
    "%reload_ext autoreload\n",
    "%autoreload 2"
   ]
  },
  {
   "cell_type": "code",
   "execution_count": 2,
   "metadata": {},
   "outputs": [],
   "source": [
    "import pandas as pd"
   ]
  },
  {
   "cell_type": "code",
   "execution_count": 3,
   "metadata": {},
   "outputs": [],
   "source": [
    "f = \"../data/output/data_dogs.json\"\n",
    "df = pd.read_json(f).set_index(\"fname\")"
   ]
  },
  {
   "cell_type": "code",
   "execution_count": 7,
   "metadata": {},
   "outputs": [],
   "source": [
    "fname = df.index[1]"
   ]
  },
  {
   "cell_type": "code",
   "execution_count": 8,
   "metadata": {},
   "outputs": [
    {
     "data": {
      "text/plain": [
       "Index(['bbox', 'image', 'saliency', 'label', 'prediction',\n",
       "       'bbox_proportion_score', 'saliency_proportion_score', 'iou_score'],\n",
       "      dtype='object')"
      ]
     },
     "execution_count": 8,
     "metadata": {},
     "output_type": "execute_result"
    }
   ],
   "source": [
    "df.columns"
   ]
  },
  {
   "cell_type": "code",
   "execution_count": 12,
   "metadata": {},
   "outputs": [],
   "source": [
    "i = df.loc[fname]"
   ]
  },
  {
   "cell_type": "code",
   "execution_count": 13,
   "metadata": {},
   "outputs": [
    {
     "name": "stderr",
     "output_type": "stream",
     "text": [
      "<ipython-input-13-75f84fe3b442>:1: SettingWithCopyWarning: \n",
      "A value is trying to be set on a copy of a slice from a DataFrame\n",
      "\n",
      "See the caveats in the documentation: https://pandas.pydata.org/pandas-docs/stable/user_guide/indexing.html#returning-a-view-versus-a-copy\n",
      "  i['score'] = i['iou_score']\n"
     ]
    }
   ],
   "source": [
    "i['score'] = i['iou_score']"
   ]
  },
  {
   "cell_type": "code",
   "execution_count": 14,
   "metadata": {},
   "outputs": [
    {
     "data": {
      "text/plain": [
       "bbox                         [0.0,73.0 0.0,175.0 171.0,175.0 171.0,73.0 0.0...\n",
       "image                        /9j/4AAQSkZJRgABAQAAAQABAAD/2wBDAAgGBgcGBQgHBw...\n",
       "saliency                     [126.0,34.0 126.0,35.0 127.0,35.0 127.0,34.0 1...\n",
       "label                                                                chihuahua\n",
       "prediction                                                           chihuahua\n",
       "bbox_proportion_score                                                 0.197393\n",
       "saliency_proportion_score                                             0.695444\n",
       "iou_score                                                             0.181687\n",
       "score                                                                 0.181687\n",
       "Name: n02085620_10231, dtype: object"
      ]
     },
     "execution_count": 14,
     "metadata": {},
     "output_type": "execute_result"
    }
   ],
   "source": [
    "i"
   ]
  },
  {
   "cell_type": "code",
   "execution_count": 16,
   "metadata": {},
   "outputs": [
    {
     "data": {
      "text/plain": [
       "['126.0,34.0 126.0,35.0 127.0,35.0 127.0,34.0 126.0,34.0',\n",
       " '150.0,70.0 150.0,71.0 151.0,71.0 151.0,70.0 150.0,70.0',\n",
       " '141.0,81.0 141.0,82.0 142.0,82.0 142.0,81.0 141.0,81.0',\n",
       " '66.0,99.0 66.0,101.0 67.0,101.0 67.0,99.0 66.0,99.0',\n",
       " '100.0,119.0 100.0,120.0 101.0,120.0 101.0,119.0 100.0,119.0',\n",
       " '101.0,121.0 101.0,122.0 102.0,122.0 102.0,121.0 101.0,121.0',\n",
       " '93.0,137.0 93.0,138.0 94.0,138.0 94.0,137.0 93.0,137.0',\n",
       " '147.0,34.0 147.0,35.0 146.0,35.0 145.0,35.0 145.0,37.0 144.0,37.0 144.0,38.0 143.0,38.0 143.0,39.0 142.0,39.0 142.0,40.0 141.0,40.0 141.0,44.0 140.0,44.0 140.0,45.0 139.0,45.0 139.0,44.0 137.0,44.0 137.0,43.0 132.0,43.0 132.0,41.0 130.0,41.0 130.0,42.0 129.0,42.0 129.0,43.0 127.0,43.0 127.0,36.0 126.0,36.0 126.0,39.0 125.0,39.0 125.0,42.0 124.0,42.0 124.0,44.0 123.0,44.0 123.0,45.0 122.0,45.0 122.0,46.0 121.0,46.0 121.0,45.0 120.0,45.0 120.0,44.0 119.0,44.0 119.0,45.0 118.0,45.0 118.0,44.0 114.0,44.0 114.0,45.0 113.0,45.0 113.0,46.0 112.0,46.0 111.0,46.0 111.0,47.0 110.0,47.0 100.0,47.0 100.0,48.0 99.0,48.0 99.0,49.0 98.0,49.0 98.0,50.0 101.0,50.0 101.0,52.0 100.0,52.0 100.0,53.0 99.0,53.0 99.0,59.0 101.0,59.0 101.0,60.0 100.0,60.0 98.0,60.0 98.0,62.0 99.0,62.0 99.0,66.0 98.0,66.0 96.0,66.0 96.0,68.0 95.0,68.0 95.0,69.0 94.0,69.0 94.0,70.0 93.0,70.0 93.0,71.0 92.0,71.0 91.0,71.0 91.0,72.0 90.0,72.0 84.0,72.0 84.0,73.0 88.0,73.0 88.0,75.0 89.0,75.0 89.0,77.0 91.0,77.0 91.0,78.0 93.0,78.0 93.0,79.0 92.0,79.0 92.0,82.0 91.0,82.0 90.0,82.0 90.0,84.0 89.0,84.0 89.0,85.0 88.0,85.0 88.0,86.0 87.0,86.0 87.0,87.0 86.0,87.0 86.0,88.0 87.0,88.0 87.0,90.0 86.0,90.0 85.0,90.0 85.0,91.0 88.0,91.0 88.0,93.0 87.0,93.0 87.0,94.0 86.0,94.0 86.0,95.0 85.0,95.0 85.0,96.0 84.0,96.0 84.0,98.0 85.0,98.0 85.0,99.0 87.0,99.0 87.0,100.0 86.0,100.0 85.0,100.0 85.0,101.0 86.0,101.0 86.0,102.0 85.0,102.0 85.0,104.0 84.0,104.0 84.0,105.0 86.0,105.0 86.0,106.0 85.0,106.0 85.0,107.0 83.0,107.0 83.0,106.0 81.0,106.0 81.0,105.0 80.0,105.0 80.0,106.0 79.0,106.0 79.0,105.0 78.0,105.0 78.0,104.0 77.0,104.0 77.0,105.0 76.0,105.0 76.0,102.0 74.0,102.0 74.0,103.0 73.0,103.0 73.0,102.0 72.0,102.0 72.0,103.0 71.0,103.0 71.0,101.0 69.0,101.0 69.0,102.0 70.0,102.0 70.0,103.0 69.0,103.0 69.0,102.0 60.0,102.0 60.0,101.0 58.0,101.0 58.0,96.0 57.0,96.0 57.0,95.0 56.0,95.0 56.0,93.0 55.0,93.0 55.0,112.0 56.0,112.0 56.0,116.0 58.0,116.0 58.0,119.0 59.0,119.0 59.0,125.0 58.0,125.0 56.0,125.0 56.0,128.0 58.0,128.0 58.0,129.0 57.0,129.0 56.0,129.0 56.0,130.0 60.0,130.0 60.0,134.0 65.0,134.0 65.0,131.0 66.0,131.0 66.0,134.0 67.0,134.0 67.0,135.0 68.0,135.0 68.0,138.0 69.0,138.0 69.0,145.0 70.0,145.0 70.0,147.0 71.0,147.0 71.0,149.0 74.0,149.0 74.0,152.0 75.0,152.0 75.0,154.0 77.0,154.0 77.0,152.0 80.0,152.0 80.0,153.0 81.0,153.0 81.0,154.0 82.0,154.0 82.0,149.0 83.0,149.0 84.0,149.0 84.0,145.0 85.0,145.0 86.0,145.0 86.0,144.0 87.0,144.0 87.0,143.0 88.0,143.0 88.0,142.0 89.0,142.0 89.0,139.0 88.0,139.0 88.0,138.0 89.0,138.0 89.0,139.0 90.0,139.0 90.0,138.0 91.0,138.0 91.0,137.0 92.0,137.0 93.0,137.0 93.0,136.0 92.0,136.0 92.0,135.0 91.0,135.0 91.0,134.0 90.0,134.0 90.0,133.0 89.0,133.0 89.0,131.0 88.0,131.0 88.0,129.0 87.0,129.0 87.0,128.0 88.0,128.0 88.0,127.0 89.0,127.0 90.0,127.0 90.0,126.0 91.0,126.0 91.0,124.0 92.0,124.0 92.0,123.0 93.0,123.0 94.0,123.0 94.0,122.0 95.0,122.0 95.0,120.0 96.0,120.0 96.0,117.0 99.0,117.0 99.0,118.0 100.0,118.0 100.0,115.0 111.0,115.0 111.0,116.0 112.0,116.0 112.0,115.0 113.0,115.0 113.0,116.0 121.0,116.0 121.0,117.0 120.0,117.0 120.0,126.0 121.0,126.0 121.0,127.0 123.0,127.0 123.0,128.0 124.0,128.0 124.0,129.0 130.0,129.0 130.0,128.0 131.0,128.0 132.0,128.0 132.0,126.0 133.0,126.0 133.0,122.0 134.0,122.0 134.0,118.0 133.0,118.0 133.0,115.0 132.0,115.0 132.0,112.0 127.0,112.0 127.0,111.0 131.0,111.0 132.0,111.0 132.0,110.0 130.0,110.0 130.0,109.0 129.0,109.0 129.0,108.0 127.0,108.0 127.0,107.0 126.0,107.0 126.0,106.0 125.0,106.0 125.0,104.0 123.0,104.0 123.0,103.0 121.0,103.0 121.0,102.0 122.0,102.0 122.0,101.0 124.0,101.0 125.0,101.0 125.0,100.0 123.0,100.0 123.0,99.0 124.0,99.0 124.0,98.0 125.0,98.0 126.0,98.0 126.0,97.0 127.0,97.0 127.0,96.0 128.0,96.0 128.0,95.0 131.0,95.0 132.0,95.0 132.0,91.0 137.0,91.0 137.0,92.0 138.0,92.0 138.0,93.0 137.0,93.0 137.0,94.0 138.0,94.0 139.0,94.0 139.0,87.0 138.0,87.0 138.0,86.0 137.0,86.0 137.0,82.0 133.0,82.0 133.0,80.0 139.0,80.0 139.0,81.0 140.0,81.0 141.0,81.0 141.0,80.0 140.0,80.0 140.0,79.0 139.0,79.0 139.0,78.0 141.0,78.0 141.0,79.0 142.0,79.0 142.0,75.0 143.0,75.0 144.0,75.0 144.0,74.0 145.0,74.0 146.0,74.0 146.0,73.0 147.0,73.0 148.0,73.0 148.0,70.0 149.0,70.0 150.0,70.0 150.0,69.0 149.0,69.0 149.0,68.0 148.0,68.0 148.0,60.0 149.0,60.0 149.0,59.0 150.0,59.0 150.0,55.0 149.0,55.0 149.0,36.0 148.0,36.0 148.0,34.0 147.0,34.0']"
      ]
     },
     "execution_count": 16,
     "metadata": {},
     "output_type": "execute_result"
    }
   ],
   "source": [
    "i.to_dict()['saliency']"
   ]
  },
  {
   "cell_type": "code",
   "execution_count": 9,
   "metadata": {},
   "outputs": [
    {
     "name": "stderr",
     "output_type": "stream",
     "text": [
      "<ipython-input-9-8084838f088e>:2: SettingWithCopyWarning: \n",
      "A value is trying to be set on a copy of a slice from a DataFrame\n",
      "\n",
      "See the caveats in the documentation: https://pandas.pydata.org/pandas-docs/stable/user_guide/indexing.html#returning-a-view-versus-a-copy\n",
      "  i['score'] = i['iou_score']\n",
      "/Users/benjamin.hoover@ibm.com/anaconda3/envs/SaliencyIOU/lib/python3.8/site-packages/pandas/core/indexing.py:671: SettingWithCopyWarning: \n",
      "A value is trying to be set on a copy of a slice from a DataFrame\n",
      "\n",
      "See the caveats in the documentation: https://pandas.pydata.org/pandas-docs/stable/user_guide/indexing.html#returning-a-view-versus-a-copy\n",
      "  self._setitem_with_indexer(indexer, value)\n"
     ]
    },
    {
     "ename": "TypeError",
     "evalue": "unsupported type: <class 'str'>",
     "output_type": "error",
     "traceback": [
      "\u001b[0;31m---------------------------------------------------------------------\u001b[0m",
      "\u001b[0;31mTypeError\u001b[0m                           Traceback (most recent call last)",
      "\u001b[0;32m<ipython-input-9-8084838f088e>\u001b[0m in \u001b[0;36m<module>\u001b[0;34m\u001b[0m\n\u001b[1;32m      1\u001b[0m \u001b[0mi\u001b[0m \u001b[0;34m=\u001b[0m \u001b[0mdf\u001b[0m\u001b[0;34m.\u001b[0m\u001b[0mloc\u001b[0m\u001b[0;34m[\u001b[0m\u001b[0mfname\u001b[0m\u001b[0;34m]\u001b[0m\u001b[0;34m\u001b[0m\u001b[0;34m\u001b[0m\u001b[0m\n\u001b[1;32m      2\u001b[0m \u001b[0mi\u001b[0m\u001b[0;34m[\u001b[0m\u001b[0;34m'score'\u001b[0m\u001b[0;34m]\u001b[0m \u001b[0;34m=\u001b[0m \u001b[0mi\u001b[0m\u001b[0;34m[\u001b[0m\u001b[0;34m'iou_score'\u001b[0m\u001b[0;34m]\u001b[0m\u001b[0;34m\u001b[0m\u001b[0;34m\u001b[0m\u001b[0m\n\u001b[0;32m----> 3\u001b[0;31m \u001b[0mrow\u001b[0m \u001b[0;34m=\u001b[0m \u001b[0mi\u001b[0m\u001b[0;34m.\u001b[0m\u001b[0mto_dict\u001b[0m\u001b[0;34m(\u001b[0m\u001b[0;34m'records'\u001b[0m\u001b[0;34m)\u001b[0m\u001b[0;34m\u001b[0m\u001b[0;34m\u001b[0m\u001b[0m\n\u001b[0m",
      "\u001b[0;32m~/anaconda3/envs/SaliencyIOU/lib/python3.8/site-packages/pandas/core/series.py\u001b[0m in \u001b[0;36mto_dict\u001b[0;34m(self, into)\u001b[0m\n\u001b[1;32m   1555\u001b[0m         \"\"\"\n\u001b[1;32m   1556\u001b[0m         \u001b[0;31m# GH16122\u001b[0m\u001b[0;34m\u001b[0m\u001b[0;34m\u001b[0m\u001b[0;34m\u001b[0m\u001b[0m\n\u001b[0;32m-> 1557\u001b[0;31m         \u001b[0minto_c\u001b[0m \u001b[0;34m=\u001b[0m \u001b[0mcom\u001b[0m\u001b[0;34m.\u001b[0m\u001b[0mstandardize_mapping\u001b[0m\u001b[0;34m(\u001b[0m\u001b[0minto\u001b[0m\u001b[0;34m)\u001b[0m\u001b[0;34m\u001b[0m\u001b[0;34m\u001b[0m\u001b[0m\n\u001b[0m\u001b[1;32m   1558\u001b[0m         \u001b[0;32mreturn\u001b[0m \u001b[0minto_c\u001b[0m\u001b[0;34m(\u001b[0m\u001b[0mself\u001b[0m\u001b[0;34m.\u001b[0m\u001b[0mitems\u001b[0m\u001b[0;34m(\u001b[0m\u001b[0;34m)\u001b[0m\u001b[0;34m)\u001b[0m\u001b[0;34m\u001b[0m\u001b[0;34m\u001b[0m\u001b[0m\n\u001b[1;32m   1559\u001b[0m \u001b[0;34m\u001b[0m\u001b[0m\n",
      "\u001b[0;32m~/anaconda3/envs/SaliencyIOU/lib/python3.8/site-packages/pandas/core/common.py\u001b[0m in \u001b[0;36mstandardize_mapping\u001b[0;34m(into)\u001b[0m\n\u001b[1;32m    391\u001b[0m         \u001b[0minto\u001b[0m \u001b[0;34m=\u001b[0m \u001b[0mtype\u001b[0m\u001b[0;34m(\u001b[0m\u001b[0minto\u001b[0m\u001b[0;34m)\u001b[0m\u001b[0;34m\u001b[0m\u001b[0;34m\u001b[0m\u001b[0m\n\u001b[1;32m    392\u001b[0m     \u001b[0;32mif\u001b[0m \u001b[0;32mnot\u001b[0m \u001b[0missubclass\u001b[0m\u001b[0;34m(\u001b[0m\u001b[0minto\u001b[0m\u001b[0;34m,\u001b[0m \u001b[0mabc\u001b[0m\u001b[0;34m.\u001b[0m\u001b[0mMapping\u001b[0m\u001b[0;34m)\u001b[0m\u001b[0;34m:\u001b[0m\u001b[0;34m\u001b[0m\u001b[0;34m\u001b[0m\u001b[0m\n\u001b[0;32m--> 393\u001b[0;31m         \u001b[0;32mraise\u001b[0m \u001b[0mTypeError\u001b[0m\u001b[0;34m(\u001b[0m\u001b[0;34mf\"unsupported type: {into}\"\u001b[0m\u001b[0;34m)\u001b[0m\u001b[0;34m\u001b[0m\u001b[0;34m\u001b[0m\u001b[0m\n\u001b[0m\u001b[1;32m    394\u001b[0m     \u001b[0;32melif\u001b[0m \u001b[0minto\u001b[0m \u001b[0;34m==\u001b[0m \u001b[0mcollections\u001b[0m\u001b[0;34m.\u001b[0m\u001b[0mdefaultdict\u001b[0m\u001b[0;34m:\u001b[0m\u001b[0;34m\u001b[0m\u001b[0;34m\u001b[0m\u001b[0m\n\u001b[1;32m    395\u001b[0m         \u001b[0;32mraise\u001b[0m \u001b[0mTypeError\u001b[0m\u001b[0;34m(\u001b[0m\u001b[0;34m\"to_dict() only accepts initialized defaultdicts\"\u001b[0m\u001b[0;34m)\u001b[0m\u001b[0;34m\u001b[0m\u001b[0;34m\u001b[0m\u001b[0m\n",
      "\u001b[0;31mTypeError\u001b[0m: unsupported type: <class 'str'>"
     ]
    }
   ],
   "source": [
    "i = df.loc[fname]\n",
    "\n",
    "row = i.to_dict('records')"
   ]
  },
  {
   "cell_type": "code",
   "execution_count": null,
   "metadata": {},
   "outputs": [],
   "source": []
  }
 ],
 "metadata": {
  "kernelspec": {
   "display_name": "Python [conda env:SaliencyIOU] *",
   "language": "python",
   "name": "conda-env-SaliencyIOU-py"
  },
  "language_info": {
   "codemirror_mode": {
    "name": "ipython",
    "version": 3
   },
   "file_extension": ".py",
   "mimetype": "text/x-python",
   "name": "python",
   "nbconvert_exporter": "python",
   "pygments_lexer": "ipython3",
   "version": "3.8.5"
  }
 },
 "nbformat": 4,
 "nbformat_minor": 4
}
