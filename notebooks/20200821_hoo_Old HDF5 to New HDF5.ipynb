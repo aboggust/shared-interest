{
 "cells": [
  {
   "cell_type": "code",
   "execution_count": 1,
   "metadata": {},
   "outputs": [],
   "source": [
    "%reload_ext autoreload\n",
    "%autoreload 2"
   ]
  },
  {
   "cell_type": "markdown",
   "metadata": {},
   "source": [
    "### TODO: Make into special script"
   ]
  },
  {
   "cell_type": "code",
   "execution_count": 2,
   "metadata": {},
   "outputs": [],
   "source": [
    "import h5py\n",
    "import pandas as pd\n",
    "import numpy as np\n",
    "from pathlib import Path\n",
    "from PIL import Image\n",
    "import numpy as np\n",
    "from io import BytesIO\n",
    "import base64"
   ]
  },
  {
   "cell_type": "code",
   "execution_count": 3,
   "metadata": {},
   "outputs": [],
   "source": [
    "in_f = \"../data/output/data_100.hdf5\"\n",
    "out_f = \"../data/output/data_100.json\""
   ]
  },
  {
   "cell_type": "code",
   "execution_count": 4,
   "metadata": {},
   "outputs": [],
   "source": [
    "def _image_to_string(array):\n",
    "    \"\"\" Converts numpy array to base64 string. \"\"\"\n",
    "    pil_array = Image.fromarray((array * 225).astype(np.uint8))\n",
    "    buff = BytesIO()\n",
    "    pil_array.save(buff, format=\"JPEG\")\n",
    "    array_string = base64.b64encode(buff.getvalue()).decode(\"utf-8\")\n",
    "    return array_string\n",
    "\n",
    "def to_json_data(in_f, out_f):\n",
    "    f = h5py.File(in_f, 'r')\n",
    "    rows = []\n",
    "    for i, fname in enumerate(f['images']):\n",
    "        img = f['images'][fname]\n",
    "        img_data = np.asarray(img['image']).transpose(1,2,0)\n",
    "        img_str = _image_to_string(img_data)\n",
    "        row = {\n",
    "            \"fname\": fname,\n",
    "            \"bbox\": list(img['bbox_polygons'][()]),\n",
    "            \"image\": img_str,\n",
    "            \"saliency\": list(img['saliency_polygons'][()]),\n",
    "            \"label\": img.attrs[\"label\"],\n",
    "            \"prediction\": img.attrs['prediction'],\n",
    "            \"bbox_proportion_score\": img.attrs[\"bbox_proportion_score\"],\n",
    "            \"saliency_proportion_score\": img.attrs[\"saliency_proportion_score\"],\n",
    "            \"iou_score\": img.attrs[\"iou_score\"]\n",
    "        }\n",
    "        rows.append(row)\n",
    "\n",
    "    df = pd.DataFrame(rows)\n",
    "    df.to_json(out_f)\n",
    "    "
   ]
  },
  {
   "cell_type": "code",
   "execution_count": 5,
   "metadata": {},
   "outputs": [],
   "source": [
    "to_json_data(in_f, out_f)"
   ]
  },
  {
   "cell_type": "code",
   "execution_count": 6,
   "metadata": {},
   "outputs": [],
   "source": [
    "df2 = pd.read_json(out_f)"
   ]
  }
 ],
 "metadata": {
  "kernelspec": {
   "display_name": "Python [conda env:SaliencyIOU] *",
   "language": "python",
   "name": "conda-env-SaliencyIOU-py"
  },
  "language_info": {
   "codemirror_mode": {
    "name": "ipython",
    "version": 3
   },
   "file_extension": ".py",
   "mimetype": "text/x-python",
   "name": "python",
   "nbconvert_exporter": "python",
   "pygments_lexer": "ipython3",
   "version": "3.8.5"
  }
 },
 "nbformat": 4,
 "nbformat_minor": 4
}
